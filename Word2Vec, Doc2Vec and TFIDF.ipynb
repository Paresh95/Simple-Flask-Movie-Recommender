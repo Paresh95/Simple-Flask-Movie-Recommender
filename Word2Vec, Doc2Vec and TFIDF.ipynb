{
 "cells": [
  {
   "cell_type": "markdown",
   "metadata": {},
   "source": [
    "text dataset - LOTRs, IMDb movie plot summaries \n",
    "\n",
    "Word2vec\n",
    "Doc2vec "
   ]
  },
  {
   "cell_type": "markdown",
   "metadata": {},
   "source": [
    "# Word2Vec"
   ]
  },
  {
   "cell_type": "code",
   "execution_count": 3,
   "metadata": {},
   "outputs": [
    {
     "name": "stderr",
     "output_type": "stream",
     "text": [
      "/Applications/anaconda3/lib/python3.7/site-packages/past/builtins/misc.py:4: DeprecationWarning: Using or importing the ABCs from 'collections' instead of from 'collections.abc' is deprecated, and in 3.8 it will stop working\n",
      "  from collections import Mapping\n"
     ]
    }
   ],
   "source": [
    "import os\n",
    "import nlp_utils\n",
    "import pandas as pd"
   ]
  },
  {
   "cell_type": "code",
   "execution_count": 40,
   "metadata": {},
   "outputs": [],
   "source": [
    "path = '/Users/Paresh.Sharma@ibm.com/Paresh/Data_Science/Datasets/LOTRs_books'\n",
    "os.chdir(path)"
   ]
  },
  {
   "cell_type": "code",
   "execution_count": 41,
   "metadata": {},
   "outputs": [],
   "source": [
    "new_list = []\n",
    "for root, dirs, files in os.walk(path):\n",
    "    for file in files:\n",
    "        if file.endswith('.txt'):\n",
    "            with open(os.path.join(root, file), 'r', encoding='ISO-8859-1') as f:\n",
    "                text = f.read()\n",
    "                new_list.append(text)"
   ]
  },
  {
   "cell_type": "code",
   "execution_count": 42,
   "metadata": {},
   "outputs": [],
   "source": [
    "text = ''.join(new_list)"
   ]
  },
  {
   "cell_type": "code",
   "execution_count": 44,
   "metadata": {},
   "outputs": [],
   "source": [
    "# pre-process text\n",
    "processed_tokens = nlp_utils.preprocess(text, n_grams=(1,2), remove_accents=True, lower=True, remove_less_than=1, remove_more_than=15,\n",
    "                                  remove_punct=True, remove_alpha=True, remove_stopwords=True, \n",
    "                                  add_custom_stopwords = ['none'], lemma=False, stem=False, remove_url=False)"
   ]
  },
  {
   "cell_type": "code",
   "execution_count": 46,
   "metadata": {},
   "outputs": [
    {
     "data": {
      "text/plain": [
       "['three',\n",
       " 'rings',\n",
       " 'elvenkings',\n",
       " 'sky',\n",
       " 'seven',\n",
       " 'dwarflords',\n",
       " 'halls',\n",
       " 'stone',\n",
       " 'nine',\n",
       " 'mortal']"
      ]
     },
     "execution_count": 46,
     "metadata": {},
     "output_type": "execute_result"
    }
   ],
   "source": [
    "processed_tokens[:10]"
   ]
  },
  {
   "cell_type": "code",
   "execution_count": 47,
   "metadata": {},
   "outputs": [],
   "source": [
    "from gensim.models import Word2Vec\n",
    "\n",
    "# train model \n",
    "model = Word2Vec(processed_tokens, size=1000, window=5, min_count=2, workers=6, sg=1, iter=10)"
   ]
  },
  {
   "cell_type": "code",
   "execution_count": 50,
   "metadata": {},
   "outputs": [
    {
     "data": {
      "text/plain": [
       "[('lorien', 0.933873176574707),\n",
       " ('moria', 0.9229995012283325),\n",
       " ('lothlorien', 0.9189971089363098),\n",
       " ('mordor', 0.9182309508323669),\n",
       " ('dain', 0.9102993011474609),\n",
       " ('isengard', 0.8989975452423096),\n",
       " ('bree', 0.8874597549438477),\n",
       " ('orthanc', 0.8804347515106201),\n",
       " ('nimrodel', 0.8768280148506165),\n",
       " ('fangorn', 0.8731997013092041),\n",
       " ('listens', 0.8729000091552734),\n",
       " ('mundburg', 0.8728089332580566),\n",
       " ('fret', 0.866926908493042),\n",
       " ('tarries', 0.8637433052062988),\n",
       " ('booming', 0.8634979128837585),\n",
       " ('rohan', 0.8630837202072144),\n",
       " ('dorthonion', 0.861647367477417),\n",
       " ('mastery', 0.8610222339630127),\n",
       " ('archery', 0.8580681681632996),\n",
       " ('shelob', 0.8580402731895447)]"
      ]
     },
     "execution_count": 50,
     "metadata": {},
     "output_type": "execute_result"
    }
   ],
   "source": [
    "model.wv.most_similar('rivendell', topn = 20)"
   ]
  },
  {
   "cell_type": "code",
   "execution_count": 49,
   "metadata": {},
   "outputs": [
    {
     "data": {
      "text/plain": [
       "0.86853987"
      ]
     },
     "execution_count": 49,
     "metadata": {},
     "output_type": "execute_result"
    }
   ],
   "source": [
    "model.wv.similarity('mordor', 'sauron')"
   ]
  },
  {
   "cell_type": "markdown",
   "metadata": {},
   "source": [
    "# Doc2Vec"
   ]
  },
  {
   "cell_type": "code",
   "execution_count": 14,
   "metadata": {},
   "outputs": [],
   "source": [
    "from gensim.models.doc2vec import Doc2Vec, TaggedDocument\n",
    "from nltk.tokenize import word_tokenize"
   ]
  },
  {
   "cell_type": "code",
   "execution_count": 15,
   "metadata": {},
   "outputs": [],
   "source": [
    "path = '/Users/Paresh.Sharma@ibm.com/Paresh/Data_Science/Datasets/Movie plots/'\n",
    "os.chdir(path)"
   ]
  },
  {
   "cell_type": "code",
   "execution_count": 16,
   "metadata": {},
   "outputs": [],
   "source": [
    "df = pd.read_csv('movie_plots.csv')"
   ]
  },
  {
   "cell_type": "code",
   "execution_count": 17,
   "metadata": {},
   "outputs": [
    {
     "name": "stdout",
     "output_type": "stream",
     "text": [
      "(12455, 5)\n"
     ]
    },
    {
     "data": {
      "text/html": [
       "<div>\n",
       "<style scoped>\n",
       "    .dataframe tbody tr th:only-of-type {\n",
       "        vertical-align: middle;\n",
       "    }\n",
       "\n",
       "    .dataframe tbody tr th {\n",
       "        vertical-align: top;\n",
       "    }\n",
       "\n",
       "    .dataframe thead th {\n",
       "        text-align: right;\n",
       "    }\n",
       "</style>\n",
       "<table border=\"1\" class=\"dataframe\">\n",
       "  <thead>\n",
       "    <tr style=\"text-align: right;\">\n",
       "      <th></th>\n",
       "      <th>imdb_id</th>\n",
       "      <th>title</th>\n",
       "      <th>plot_synopsis</th>\n",
       "      <th>tags</th>\n",
       "      <th>synopsis_source</th>\n",
       "    </tr>\n",
       "  </thead>\n",
       "  <tbody>\n",
       "    <tr>\n",
       "      <td>0</td>\n",
       "      <td>tt0057603</td>\n",
       "      <td>I tre volti della paura</td>\n",
       "      <td>Note: this synopsis is for the orginal Italian...</td>\n",
       "      <td>cult, horror, gothic, murder, atmospheric</td>\n",
       "      <td>imdb</td>\n",
       "    </tr>\n",
       "    <tr>\n",
       "      <td>1</td>\n",
       "      <td>tt1733125</td>\n",
       "      <td>Dungeons &amp; Dragons: The Book of Vile Darkness</td>\n",
       "      <td>Two thousand years ago, Nhagruul the Foul, a s...</td>\n",
       "      <td>violence</td>\n",
       "      <td>imdb</td>\n",
       "    </tr>\n",
       "    <tr>\n",
       "      <td>2</td>\n",
       "      <td>tt0033045</td>\n",
       "      <td>The Shop Around the Corner</td>\n",
       "      <td>Matuschek's, a gift store in Budapest, is the ...</td>\n",
       "      <td>romantic</td>\n",
       "      <td>imdb</td>\n",
       "    </tr>\n",
       "    <tr>\n",
       "      <td>3</td>\n",
       "      <td>tt0113862</td>\n",
       "      <td>Mr. Holland's Opus</td>\n",
       "      <td>Glenn Holland, not a morning person by anyone'...</td>\n",
       "      <td>inspiring, romantic, stupid, feel-good</td>\n",
       "      <td>imdb</td>\n",
       "    </tr>\n",
       "    <tr>\n",
       "      <td>4</td>\n",
       "      <td>tt0249380</td>\n",
       "      <td>Baise-moi</td>\n",
       "      <td>Baise-moi tells the story of Nadine and Manu w...</td>\n",
       "      <td>gothic, cruelty, violence, cult, revenge, sadist</td>\n",
       "      <td>wikipedia</td>\n",
       "    </tr>\n",
       "  </tbody>\n",
       "</table>\n",
       "</div>"
      ],
      "text/plain": [
       "     imdb_id                                          title  \\\n",
       "0  tt0057603                        I tre volti della paura   \n",
       "1  tt1733125  Dungeons & Dragons: The Book of Vile Darkness   \n",
       "2  tt0033045                     The Shop Around the Corner   \n",
       "3  tt0113862                             Mr. Holland's Opus   \n",
       "4  tt0249380                                      Baise-moi   \n",
       "\n",
       "                                       plot_synopsis  \\\n",
       "0  Note: this synopsis is for the orginal Italian...   \n",
       "1  Two thousand years ago, Nhagruul the Foul, a s...   \n",
       "2  Matuschek's, a gift store in Budapest, is the ...   \n",
       "3  Glenn Holland, not a morning person by anyone'...   \n",
       "4  Baise-moi tells the story of Nadine and Manu w...   \n",
       "\n",
       "                                               tags synopsis_source  \n",
       "0         cult, horror, gothic, murder, atmospheric            imdb  \n",
       "1                                          violence            imdb  \n",
       "2                                          romantic            imdb  \n",
       "3            inspiring, romantic, stupid, feel-good            imdb  \n",
       "4  gothic, cruelty, violence, cult, revenge, sadist       wikipedia  "
      ]
     },
     "execution_count": 17,
     "metadata": {},
     "output_type": "execute_result"
    }
   ],
   "source": [
    "# only keep training data\n",
    "df = df[df.split != 'val']\n",
    "\n",
    "# delete split column\n",
    "del df['split']\n",
    "\n",
    "# reset the index \n",
    "df = df.reset_index(drop=True)\n",
    "\n",
    "print(df.shape)\n",
    "df.head()"
   ]
  },
  {
   "cell_type": "code",
   "execution_count": 18,
   "metadata": {},
   "outputs": [],
   "source": [
    "processed_docs = df['plot_synopsis'].apply(nlp_utils.preprocess, n_grams=(1,1), remove_accents=True, lower=True, remove_less_than=1, remove_more_than=15,\n",
    "                                  remove_punct=True, remove_alpha=True, remove_stopwords=True, \n",
    "                                  add_custom_stopwords = ['none'], lemma=False, stem=False, remove_url=True)\n",
    "\n",
    "processed_docs = processed_docs.tolist()"
   ]
  },
  {
   "cell_type": "code",
   "execution_count": 19,
   "metadata": {},
   "outputs": [],
   "source": [
    "tagged_data = [TaggedDocument(words=tokenised_plot, tags=[str(i)]) for i,tokenised_plot  in enumerate(processed_docs)]"
   ]
  },
  {
   "cell_type": "code",
   "execution_count": 20,
   "metadata": {
    "scrolled": true
   },
   "outputs": [
    {
     "name": "stderr",
     "output_type": "stream",
     "text": [
      "/Applications/anaconda3/lib/python3.7/site-packages/gensim/models/doc2vec.py:319: UserWarning: The parameter `size` is deprecated, will be removed in 4.0.0, use `vector_size` instead.\n",
      "  warnings.warn(\"The parameter `size` is deprecated, will be removed in 4.0.0, use `vector_size` instead.\")\n"
     ]
    },
    {
     "name": "stdout",
     "output_type": "stream",
     "text": [
      "iteration 0\n"
     ]
    },
    {
     "name": "stderr",
     "output_type": "stream",
     "text": [
      "/Applications/anaconda3/lib/python3.7/site-packages/ipykernel_launcher.py:15: DeprecationWarning: Call to deprecated `iter` (Attribute will be removed in 4.0.0, use self.epochs instead).\n",
      "  from ipykernel import kernelapp as app\n"
     ]
    },
    {
     "name": "stdout",
     "output_type": "stream",
     "text": [
      "iteration 1\n"
     ]
    },
    {
     "name": "stderr",
     "output_type": "stream",
     "text": [
      "/Applications/anaconda3/lib/python3.7/site-packages/ipykernel_launcher.py:15: DeprecationWarning: Call to deprecated `iter` (Attribute will be removed in 4.0.0, use self.epochs instead).\n",
      "  from ipykernel import kernelapp as app\n"
     ]
    },
    {
     "name": "stdout",
     "output_type": "stream",
     "text": [
      "iteration 2\n"
     ]
    },
    {
     "name": "stderr",
     "output_type": "stream",
     "text": [
      "/Applications/anaconda3/lib/python3.7/site-packages/ipykernel_launcher.py:15: DeprecationWarning: Call to deprecated `iter` (Attribute will be removed in 4.0.0, use self.epochs instead).\n",
      "  from ipykernel import kernelapp as app\n"
     ]
    },
    {
     "name": "stdout",
     "output_type": "stream",
     "text": [
      "iteration 3\n"
     ]
    },
    {
     "name": "stderr",
     "output_type": "stream",
     "text": [
      "/Applications/anaconda3/lib/python3.7/site-packages/ipykernel_launcher.py:15: DeprecationWarning: Call to deprecated `iter` (Attribute will be removed in 4.0.0, use self.epochs instead).\n",
      "  from ipykernel import kernelapp as app\n"
     ]
    },
    {
     "name": "stdout",
     "output_type": "stream",
     "text": [
      "iteration 4\n"
     ]
    },
    {
     "name": "stderr",
     "output_type": "stream",
     "text": [
      "/Applications/anaconda3/lib/python3.7/site-packages/ipykernel_launcher.py:15: DeprecationWarning: Call to deprecated `iter` (Attribute will be removed in 4.0.0, use self.epochs instead).\n",
      "  from ipykernel import kernelapp as app\n"
     ]
    },
    {
     "name": "stdout",
     "output_type": "stream",
     "text": [
      "iteration 5\n"
     ]
    },
    {
     "name": "stderr",
     "output_type": "stream",
     "text": [
      "/Applications/anaconda3/lib/python3.7/site-packages/ipykernel_launcher.py:15: DeprecationWarning: Call to deprecated `iter` (Attribute will be removed in 4.0.0, use self.epochs instead).\n",
      "  from ipykernel import kernelapp as app\n"
     ]
    },
    {
     "name": "stdout",
     "output_type": "stream",
     "text": [
      "iteration 6\n"
     ]
    },
    {
     "name": "stderr",
     "output_type": "stream",
     "text": [
      "/Applications/anaconda3/lib/python3.7/site-packages/ipykernel_launcher.py:15: DeprecationWarning: Call to deprecated `iter` (Attribute will be removed in 4.0.0, use self.epochs instead).\n",
      "  from ipykernel import kernelapp as app\n"
     ]
    },
    {
     "name": "stdout",
     "output_type": "stream",
     "text": [
      "iteration 7\n"
     ]
    },
    {
     "name": "stderr",
     "output_type": "stream",
     "text": [
      "/Applications/anaconda3/lib/python3.7/site-packages/ipykernel_launcher.py:15: DeprecationWarning: Call to deprecated `iter` (Attribute will be removed in 4.0.0, use self.epochs instead).\n",
      "  from ipykernel import kernelapp as app\n"
     ]
    },
    {
     "name": "stdout",
     "output_type": "stream",
     "text": [
      "iteration 8\n"
     ]
    },
    {
     "name": "stderr",
     "output_type": "stream",
     "text": [
      "/Applications/anaconda3/lib/python3.7/site-packages/ipykernel_launcher.py:15: DeprecationWarning: Call to deprecated `iter` (Attribute will be removed in 4.0.0, use self.epochs instead).\n",
      "  from ipykernel import kernelapp as app\n"
     ]
    },
    {
     "name": "stdout",
     "output_type": "stream",
     "text": [
      "iteration 9\n"
     ]
    },
    {
     "name": "stderr",
     "output_type": "stream",
     "text": [
      "/Applications/anaconda3/lib/python3.7/site-packages/ipykernel_launcher.py:15: DeprecationWarning: Call to deprecated `iter` (Attribute will be removed in 4.0.0, use self.epochs instead).\n",
      "  from ipykernel import kernelapp as app\n"
     ]
    }
   ],
   "source": [
    "max_epochs = 10\n",
    "\n",
    "model = Doc2Vec(size=20,\n",
    "                alpha=0.025, \n",
    "                min_alpha=0.00025,\n",
    "                min_count=1,\n",
    "                dm =1)\n",
    "  \n",
    "model.build_vocab(tagged_data)\n",
    "\n",
    "for epoch in range(max_epochs):\n",
    "    print('iteration {0}'.format(epoch))\n",
    "    model.train(tagged_data,\n",
    "                total_examples=model.corpus_count,\n",
    "                epochs=model.iter)\n",
    "    \n",
    "    # decrease the learning rate\n",
    "    #model.alpha -= 0.002\n",
    "    # fix the learning rate, no decay\n",
    "    #model.min_alpha = model.alpha"
   ]
  },
  {
   "cell_type": "code",
   "execution_count": 21,
   "metadata": {},
   "outputs": [
    {
     "name": "stdout",
     "output_type": "stream",
     "text": [
      "Model Saved\n"
     ]
    }
   ],
   "source": [
    "model.save(\"/Users/Paresh.Sharma@ibm.com/Paresh/Data_Science/Github/DS-Projects/11_NLP_basics_practice/d2v.model\")\n",
    "print(\"Model Saved\")"
   ]
  },
  {
   "cell_type": "code",
   "execution_count": 22,
   "metadata": {},
   "outputs": [],
   "source": [
    "from gensim.models.doc2vec import Doc2Vec\n",
    "\n",
    "model= Doc2Vec.load(\"/Users/Paresh.Sharma@ibm.com/Paresh/Data_Science/Github/DS-Projects/11_NLP_basics_practice/d2v.model\")"
   ]
  },
  {
   "cell_type": "code",
   "execution_count": 23,
   "metadata": {},
   "outputs": [],
   "source": [
    "# get a movie which is named in the df and find similar movies based on the description\n",
    "\n",
    "def get_similar_movies_from_data(movie_name, df, topn):\n",
    "\n",
    "    index_array = df.loc[df['title'] == movie_name].index.values\n",
    "\n",
    "    if len(index_array) == 0:\n",
    "        print('This movie is not in the database')\n",
    "\n",
    "    else:\n",
    "        idx = index_array[0]\n",
    "\n",
    "        similar_doc = model.docvecs.most_similar(idx, topn = topn)\n",
    "        indexes = [tup[0] for tup in similar_doc]\n",
    "        return df.loc[df.index.isin(indexes)]['title'].values"
   ]
  },
  {
   "cell_type": "code",
   "execution_count": 24,
   "metadata": {},
   "outputs": [
    {
     "data": {
      "text/plain": [
       "array(['Bugsy', 'The Sting', 'Bruiser', 'The Drop', 'Public Enemies',\n",
       "       'Notorious', 'Rio Bravo', 'Falling Down', 'Pride and Glory',\n",
       "       'American Hustle', 'Milk', 'The Great Flamarion', 'Four Brothers',\n",
       "       \"C'era una volta il West\", 'Lucky Number Slevin', 'Payback',\n",
       "       'Bugs and Thugs', 'Sherlock Jr.', 'Racketeer Rabbit',\n",
       "       'Continuavano a chiamarlo Trinità'], dtype=object)"
      ]
     },
     "execution_count": 24,
     "metadata": {},
     "output_type": "execute_result"
    }
   ],
   "source": [
    "get_similar_movies_from_data(\"Scarface\", df, topn=20)"
   ]
  },
  {
   "cell_type": "code",
   "execution_count": 25,
   "metadata": {},
   "outputs": [],
   "source": [
    "the_dark_knight = \"Gotham's new District Attorney has been elected. His name is Harvey Dent, and he has a \\\n",
    "radical new agenda that threatens to take down Gotham's organized crime underworld once and for all with \\\n",
    "an iron fist. But the emergence of the rogue vigilante known as Batman has caused problems for Dent and his \\\n",
    "agenda. A new criminal mastermind known only as 'The Joker' has arrived and aims to take Gotham out from under \\\n",
    "Harvey Dent's iron fist. The Joker stages a masterfully planned bank robbery and robs the Gotham mob blind. He \\\n",
    "uses this money to stage a series of horrific and strategic attacks against the city and its people, each one \\\n",
    "carefully planned and aimed at Dent and Batman, while causing the rest of the city to enter panic mode. Meanwhile, \\\n",
    "Batman thinks he might have found a lead to The Joker thanks to Wayne Enterprises' dealings with a shady Chinese \\\n",
    "banker, and that takes Batman and Alfred to Hong Kong. The Joker has no rules, but Batman has only one, and the \\\n",
    "Joker aims to make Batman break his only rule. But who will be the one to take him out, will it be rogue vigilante \\\n",
    "Batman, or will it be elected official Harvey Dent, the new hero with a face?\""
   ]
  },
  {
   "cell_type": "code",
   "execution_count": 43,
   "metadata": {},
   "outputs": [],
   "source": [
    "def get_similar_movies_from_new(plot_synoposis, df, topn):\n",
    "    \n",
    "    # pre-process text\n",
    "    processed_tokens = nlp_utils.preprocess(plot_synoposis, n_grams=(1,1), remove_accents=True, lower=True, remove_less_than=1, \n",
    "                                            remove_more_than=15,remove_punct=True, remove_alpha=True, \n",
    "                                            remove_stopwords=True, add_custom_stopwords = ['none'], \n",
    "                                            lemma=False, stem=False, remove_url=True)\n",
    "    \n",
    "    new_vector = model.infer_vector(processed_tokens)\n",
    "    similar_doc = model.docvecs.most_similar([new_vector], topn=topn)\n",
    "    indexes = [tup[0] for tup in similar_doc]\n",
    "    return list(df.loc[df.index.isin(indexes)]['title'].values)"
   ]
  },
  {
   "cell_type": "code",
   "execution_count": 44,
   "metadata": {},
   "outputs": [
    {
     "data": {
      "text/plain": [
       "['Batman Begins',\n",
       " 'Batman',\n",
       " 'Max Payne',\n",
       " 'Batman: Arkham City',\n",
       " 'Batman: The Dark Knight Returns, Part 2',\n",
       " 'Batman: Under the Red Hood',\n",
       " 'Spider-Man',\n",
       " 'Batman: Mask of the Phantasm',\n",
       " 'Batman Forever',\n",
       " 'The Dark Knight',\n",
       " 'The Dark Knight Rises',\n",
       " 'Batman: The Killing Joke',\n",
       " 'Justice League: Doom',\n",
       " 'Batman: Arkham Origins',\n",
       " 'Batman Begins',\n",
       " 'Lego Batman: The Movie - DC Super Heroes Unite',\n",
       " 'Tetsuo: The Bullet Man',\n",
       " 'Batman: Return of the Caped Crusaders',\n",
       " 'Son of Batman',\n",
       " 'Batman: Year One']"
      ]
     },
     "execution_count": 44,
     "metadata": {},
     "output_type": "execute_result"
    }
   ],
   "source": [
    "get_similar_movies_from_new(the_dark_knight, df, topn=20)"
   ]
  },
  {
   "cell_type": "markdown",
   "metadata": {},
   "source": [
    "## TF-IDF"
   ]
  },
  {
   "cell_type": "code",
   "execution_count": 96,
   "metadata": {},
   "outputs": [],
   "source": [
    "from sklearn.feature_extraction.text import TfidfVectorizer\n",
    "from sklearn.metrics.pairwise import cosine_similarity"
   ]
  },
  {
   "cell_type": "code",
   "execution_count": 13,
   "metadata": {},
   "outputs": [
    {
     "data": {
      "text/html": [
       "<div>\n",
       "<style scoped>\n",
       "    .dataframe tbody tr th:only-of-type {\n",
       "        vertical-align: middle;\n",
       "    }\n",
       "\n",
       "    .dataframe tbody tr th {\n",
       "        vertical-align: top;\n",
       "    }\n",
       "\n",
       "    .dataframe thead th {\n",
       "        text-align: right;\n",
       "    }\n",
       "</style>\n",
       "<table border=\"1\" class=\"dataframe\">\n",
       "  <thead>\n",
       "    <tr style=\"text-align: right;\">\n",
       "      <th></th>\n",
       "      <th>imdb_id</th>\n",
       "      <th>title</th>\n",
       "      <th>plot_synopsis</th>\n",
       "      <th>tags</th>\n",
       "      <th>synopsis_source</th>\n",
       "    </tr>\n",
       "  </thead>\n",
       "  <tbody>\n",
       "    <tr>\n",
       "      <td>0</td>\n",
       "      <td>tt0057603</td>\n",
       "      <td>I tre volti della paura</td>\n",
       "      <td>Note: this synopsis is for the orginal Italian...</td>\n",
       "      <td>cult, horror, gothic, murder, atmospheric</td>\n",
       "      <td>imdb</td>\n",
       "    </tr>\n",
       "    <tr>\n",
       "      <td>1</td>\n",
       "      <td>tt1733125</td>\n",
       "      <td>Dungeons &amp; Dragons: The Book of Vile Darkness</td>\n",
       "      <td>Two thousand years ago, Nhagruul the Foul, a s...</td>\n",
       "      <td>violence</td>\n",
       "      <td>imdb</td>\n",
       "    </tr>\n",
       "    <tr>\n",
       "      <td>2</td>\n",
       "      <td>tt0033045</td>\n",
       "      <td>The Shop Around the Corner</td>\n",
       "      <td>Matuschek's, a gift store in Budapest, is the ...</td>\n",
       "      <td>romantic</td>\n",
       "      <td>imdb</td>\n",
       "    </tr>\n",
       "    <tr>\n",
       "      <td>3</td>\n",
       "      <td>tt0113862</td>\n",
       "      <td>Mr. Holland's Opus</td>\n",
       "      <td>Glenn Holland, not a morning person by anyone'...</td>\n",
       "      <td>inspiring, romantic, stupid, feel-good</td>\n",
       "      <td>imdb</td>\n",
       "    </tr>\n",
       "    <tr>\n",
       "      <td>4</td>\n",
       "      <td>tt0249380</td>\n",
       "      <td>Baise-moi</td>\n",
       "      <td>Baise-moi tells the story of Nadine and Manu w...</td>\n",
       "      <td>gothic, cruelty, violence, cult, revenge, sadist</td>\n",
       "      <td>wikipedia</td>\n",
       "    </tr>\n",
       "  </tbody>\n",
       "</table>\n",
       "</div>"
      ],
      "text/plain": [
       "     imdb_id                                          title  \\\n",
       "0  tt0057603                        I tre volti della paura   \n",
       "1  tt1733125  Dungeons & Dragons: The Book of Vile Darkness   \n",
       "2  tt0033045                     The Shop Around the Corner   \n",
       "3  tt0113862                             Mr. Holland's Opus   \n",
       "4  tt0249380                                      Baise-moi   \n",
       "\n",
       "                                       plot_synopsis  \\\n",
       "0  Note: this synopsis is for the orginal Italian...   \n",
       "1  Two thousand years ago, Nhagruul the Foul, a s...   \n",
       "2  Matuschek's, a gift store in Budapest, is the ...   \n",
       "3  Glenn Holland, not a morning person by anyone'...   \n",
       "4  Baise-moi tells the story of Nadine and Manu w...   \n",
       "\n",
       "                                               tags synopsis_source  \n",
       "0         cult, horror, gothic, murder, atmospheric            imdb  \n",
       "1                                          violence            imdb  \n",
       "2                                          romantic            imdb  \n",
       "3            inspiring, romantic, stupid, feel-good            imdb  \n",
       "4  gothic, cruelty, violence, cult, revenge, sadist       wikipedia  "
      ]
     },
     "execution_count": 13,
     "metadata": {},
     "output_type": "execute_result"
    }
   ],
   "source": [
    "df.head()"
   ]
  },
  {
   "cell_type": "code",
   "execution_count": 66,
   "metadata": {},
   "outputs": [],
   "source": [
    "processed_docs = df['plot_synopsis'].apply(nlp_utils.preprocess, n_grams=(1,1), remove_accents=False, lower=True, remove_less_than=0, remove_more_than=15,\n",
    "                                  remove_punct=True, remove_alpha=True, remove_stopwords=False, \n",
    "                                  add_custom_stopwords = [], lemma=False, stem=False, remove_url=False)\n",
    "\n",
    "processed_docs = processed_docs.tolist()"
   ]
  },
  {
   "cell_type": "code",
   "execution_count": 67,
   "metadata": {},
   "outputs": [],
   "source": [
    "the_dark_knight = \"Gotham's new District Attorney has been elected. His name is Harvey Dent, and he has a \\\n",
    "radical new agenda that threatens to take down Gotham's organized crime underworld once and for all with \\\n",
    "an iron fist. But the emergence of the rogue vigilante known as Batman has caused problems for Dent and his \\\n",
    "agenda. A new criminal mastermind known only as 'The Joker' has arrived and aims to take Gotham out from under \\\n",
    "Harvey Dent's iron fist. The Joker stages a masterfully planned bank robbery and robs the Gotham mob blind. He \\\n",
    "uses this money to stage a series of horrific and strategic attacks against the city and its people, each one \\\n",
    "carefully planned and aimed at Dent and Batman, while causing the rest of the city to enter panic mode. Meanwhile, \\\n",
    "Batman thinks he might have found a lead to The Joker thanks to Wayne Enterprises' dealings with a shady Chinese \\\n",
    "banker, and that takes Batman and Alfred to Hong Kong. The Joker has no rules, but Batman has only one, and the \\\n",
    "Joker aims to make Batman break his only rule. But who will be the one to take him out, will it be rogue vigilante \\\n",
    "Batman, or will it be elected official Harvey Dent, the new hero with a face?\""
   ]
  },
  {
   "cell_type": "code",
   "execution_count": 159,
   "metadata": {},
   "outputs": [],
   "source": [
    "# pre-process text\n",
    "processed_tokens = nlp_utils.preprocess(the_dark_knight, n_grams=(1,1), remove_accents=False, lower=True, remove_less_than=0, remove_more_than=15,\n",
    "                                  remove_punct=True, remove_alpha=True, remove_stopwords=False, \n",
    "                                  add_custom_stopwords = [], lemma=False, stem=False, remove_url=False)"
   ]
  },
  {
   "cell_type": "code",
   "execution_count": 160,
   "metadata": {},
   "outputs": [],
   "source": [
    "processed_tokens = [processed_tokens]"
   ]
  },
  {
   "cell_type": "code",
   "execution_count": 162,
   "metadata": {},
   "outputs": [],
   "source": [
    "def identity_tokenizer(text):\n",
    "    return text\n",
    "\n",
    "tfidf = TfidfVectorizer(tokenizer=identity_tokenizer, lowercase=False)    \n",
    "tfidf_weights_matrix = tfidf.fit_transform(processed_docs)\n",
    "search_query_weights = tfidf.transform(processed_tokens)"
   ]
  },
  {
   "cell_type": "code",
   "execution_count": 167,
   "metadata": {},
   "outputs": [],
   "source": [
    "cosine_distance = cosine_similarity(search_query_weights, tfidf_weights_matrix)\n",
    "similarity_list = list(cosine_distance[0])"
   ]
  },
  {
   "cell_type": "code",
   "execution_count": 173,
   "metadata": {},
   "outputs": [],
   "source": [
    "# get the indexes of the most similar \n",
    "indexes = sorted(range(len(similarity_list)), key=lambda i: similarity_list[i])[-20:]"
   ]
  },
  {
   "cell_type": "code",
   "execution_count": 175,
   "metadata": {
    "scrolled": true
   },
   "outputs": [
    {
     "data": {
      "text/plain": [
       "array(['Batman Beyond: Return of the Joker', 'Batman Begins',\n",
       "       'The Batman vs. Dracula', 'Batman', 'Batman: Arkham City',\n",
       "       'Batman: The Dark Knight Returns, Part 2',\n",
       "       'Batman: Under the Red Hood', 'Batman: Mask of the Phantasm',\n",
       "       'Batman Forever', 'The Dark Knight', 'Batman: The Killing Joke',\n",
       "       'Full Metal Jacket', 'Justice League: Doom',\n",
       "       'Batman: Arkham Origins', 'Batman Begins',\n",
       "       'Lego Batman: The Movie - DC Super Heroes Unite',\n",
       "       'Batman: Return of the Caped Crusaders', 'Batman: Arkham Knight',\n",
       "       'Batman: Arkham Asylum', 'Batman: Year One'], dtype=object)"
      ]
     },
     "execution_count": 175,
     "metadata": {},
     "output_type": "execute_result"
    }
   ],
   "source": [
    "df.loc[df.index.isin(indexes)]['title'].values"
   ]
  },
  {
   "cell_type": "markdown",
   "metadata": {},
   "source": [
    "Sources: \n",
    "https://radimrehurek.com/gensim/models/word2vec.html\n",
    "https://rare-technologies.com/word2vec-tutorial/#app\n",
    "https://medium.com/@mishra.thedeepak/doc2vec-simple-implementation-example-df2afbbfbad5\n",
    "https://www.imdb.com/title/tt0468569/plotsummary?ref_=tt_stry_pl"
   ]
  }
 ],
 "metadata": {
  "kernelspec": {
   "display_name": "Python 3",
   "language": "python",
   "name": "python3"
  },
  "language_info": {
   "codemirror_mode": {
    "name": "ipython",
    "version": 3
   },
   "file_extension": ".py",
   "mimetype": "text/x-python",
   "name": "python",
   "nbconvert_exporter": "python",
   "pygments_lexer": "ipython3",
   "version": "3.7.4"
  }
 },
 "nbformat": 4,
 "nbformat_minor": 2
}
